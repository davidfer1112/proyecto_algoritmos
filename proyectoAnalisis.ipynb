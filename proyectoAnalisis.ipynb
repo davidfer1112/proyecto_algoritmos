{
 "cells": [
  {
   "cell_type": "markdown",
   "source": [
    "Importar librería NumPy para realizar operaciones numéricas"
   ],
   "metadata": {
    "collapsed": false
   },
   "id": "86bc691ab409e32d"
  },
  {
   "cell_type": "code",
   "execution_count": 214,
   "outputs": [],
   "source": [
    "import numpy as np"
   ],
   "metadata": {
    "collapsed": false,
    "ExecuteTime": {
     "end_time": "2023-11-01T20:13:10.253949Z",
     "start_time": "2023-11-01T20:13:10.236168400Z"
    }
   },
   "id": "6f98581d810f5e5e"
  },
  {
   "cell_type": "markdown",
   "source": [
    "Solicitar los datos al usuario"
   ],
   "metadata": {
    "collapsed": false
   },
   "id": "a521550426f30f51"
  },
  {
   "cell_type": "code",
   "execution_count": 215,
   "outputs": [],
   "source": [
    "def obtener_datos_usuario():\n",
    "    try:\n",
    "        VN = float(input(\"Ingrese el valor nominal del bono: \"))\n",
    "        C = float(input(\"Ingrese la tasa de interés contractual (en decimal): \"))\n",
    "        n = int(input(\"Ingrese la frecuencia de capitalización por año: \"))\n",
    "        T = float(input(\"Ingrese el plazo total del bono en años: \"))\n",
    "        P = float(input(\"Ingrese el precio después de la comisión: \"))\n",
    "        R = float(input(\"Ingrese la tasa de interés inicial (en decimal): \"))\n",
    "        dR = float(input(\"Ingrese la variación en la tasa de interés: \"))\n",
    "        return VN, C, n, T, P, R, dR\n",
    "    except ValueError:\n",
    "        print(\"Por favor, ingrese valores numéricos válidos.\")\n",
    "        return obtener_datos_usuario()"
   ],
   "metadata": {
    "collapsed": false,
    "ExecuteTime": {
     "end_time": "2023-11-01T20:13:10.255935100Z",
     "start_time": "2023-11-01T20:13:10.239673800Z"
    }
   },
   "id": "8cf582a7b239f125"
  },
  {
   "cell_type": "markdown",
   "source": [
    "Calcular los flujos de efectivo para cada período"
   ],
   "metadata": {
    "collapsed": false
   },
   "id": "d79b8841b2bf515c"
  },
  {
   "cell_type": "code",
   "execution_count": 216,
   "outputs": [],
   "source": [
    "def calcular_flujos_efectivo(VN, C, n, T):\n",
    "    cupon_semestral = VN * C / 2\n",
    "    flujos_cupon = [cupon_semestral] * int(n * T)\n",
    "    flujos_cupon[-1] += VN\n",
    "    return flujos_cupon"
   ],
   "metadata": {
    "collapsed": false,
    "ExecuteTime": {
     "end_time": "2023-11-01T20:13:10.256910900Z",
     "start_time": "2023-11-01T20:13:10.242042300Z"
    }
   },
   "id": "ef0855d292f9650a"
  },
  {
   "cell_type": "markdown",
   "source": [
    "Calcular el valor presente de cada flujo de efectivo"
   ],
   "metadata": {
    "collapsed": false
   },
   "id": "b7e844e4fb3d70"
  },
  {
   "cell_type": "code",
   "execution_count": 217,
   "outputs": [],
   "source": [
    "def calcular_valor_presente(flujos_cupon, R, n):\n",
    "    return [cf / (1 + R/n)**(i+1) for i, cf in enumerate(flujos_cupon)]"
   ],
   "metadata": {
    "collapsed": false,
    "ExecuteTime": {
     "end_time": "2023-11-01T20:13:10.266084200Z",
     "start_time": "2023-11-01T20:13:10.247812400Z"
    }
   },
   "id": "edcdc84d6e2a6814"
  },
  {
   "cell_type": "markdown",
   "source": [
    "Calcular la duración y la convexidad"
   ],
   "metadata": {
    "collapsed": false
   },
   "id": "cb16c28b69c645e7"
  },
  {
   "cell_type": "code",
   "execution_count": 218,
   "outputs": [],
   "source": [
    "def calcular_duracion_convexidad(flujos_cupon, VP_flujos, R, n):\n",
    "    D = sum([(i+1) * cf / (1 + R/n)**(i+2) for i, cf in enumerate(flujos_cupon)]) / sum(VP_flujos)\n",
    "    C = sum([(i+1)*(i+2) * cf / (1 + R/n)**(i+3) for i, cf in enumerate(flujos_cupon)]) / sum(VP_flujos)\n",
    "    return D, C"
   ],
   "metadata": {
    "collapsed": false,
    "ExecuteTime": {
     "end_time": "2023-11-01T20:13:10.267085800Z",
     "start_time": "2023-11-01T20:13:10.251947700Z"
    }
   },
   "id": "a06edefccee36525"
  },
  {
   "cell_type": "markdown",
   "source": [
    "Calcular la variación en el precio utilizado la aproximación de la serie de Taylor"
   ],
   "metadata": {
    "collapsed": false
   },
   "id": "c77825cfb27d8cfc"
  },
  {
   "cell_type": "code",
   "execution_count": 219,
   "outputs": [],
   "source": [
    "def aplicar_serie_taylor(D, C, dR):\n",
    "    dP = -D * dR + 0.5 * C * dR**2\n",
    "    return dP"
   ],
   "metadata": {
    "collapsed": false,
    "ExecuteTime": {
     "end_time": "2023-11-01T20:13:10.283088200Z",
     "start_time": "2023-11-01T20:13:10.254949500Z"
    }
   },
   "id": "acaf3a38c98fa343"
  },
  {
   "cell_type": "markdown",
   "source": [
    "Llamar a las funciones anteriores para calcular el nuevo precio"
   ],
   "metadata": {
    "collapsed": false
   },
   "id": "f5bef3265c25c792"
  },
  {
   "cell_type": "code",
   "execution_count": 220,
   "outputs": [],
   "source": [
    "def calcular_nuevo_precio(VN, C, n, T, P, R, dR):\n",
    "    flujos_cupon = calcular_flujos_efectivo(VN, C, n, T)\n",
    "    VP_flujos = calcular_valor_presente(flujos_cupon, R, n)\n",
    "    D, C = calcular_duracion_convexidad(flujos_cupon, VP_flujos, R, n)\n",
    "    dP = aplicar_serie_taylor(D, C, dR)\n",
    "    nuevo_precio = P + dP\n",
    "    mostrar_resultados(P, nuevo_precio, D, C)"
   ],
   "metadata": {
    "collapsed": false,
    "ExecuteTime": {
     "end_time": "2023-11-01T20:13:10.284088200Z",
     "start_time": "2023-11-01T20:13:10.256910900Z"
    }
   },
   "id": "44d40e0b819d37a4"
  },
  {
   "cell_type": "code",
   "execution_count": 221,
   "outputs": [],
   "source": [
    "def mostrar_resultados(P, nuevo_precio, D, C):\n",
    "    print(\"\\nResultados:\")\n",
    "    print(f\"Precio anterior del bono: {P:.6f}\")\n",
    "    print(f\"Nuevo precio estimado del bono: {nuevo_precio:.6f}\")\n",
    "    print(f\"Diferencia: {abs(nuevo_precio - P):.6f}\")\n",
    "    print(f\"Duración del bono: {D:.6f}\")\n",
    "    print(f\"Convexidad del bono: {C:.6f}\")"
   ],
   "metadata": {
    "collapsed": false,
    "ExecuteTime": {
     "end_time": "2023-11-01T20:13:10.284088200Z",
     "start_time": "2023-11-01T20:13:10.260307100Z"
    }
   },
   "id": "2c50c64f8641edc4"
  },
  {
   "cell_type": "markdown",
   "source": [
    "Mostrar el cálculo del nuevo precio"
   ],
   "metadata": {
    "collapsed": false
   },
   "id": "c8a3ec3e7881d07"
  },
  {
   "cell_type": "code",
   "execution_count": 222,
   "outputs": [
    {
     "name": "stdout",
     "output_type": "stream",
     "text": [
      "\n",
      "Resultados:\n",
      "Precio anterior del bono: 10200.000000\n",
      "Nuevo precio estimado del bono: 10199.958267\n",
      "Diferencia: 0.041733\n",
      "Duración del bono: 15.671455\n",
      "Convexidad del bono: 297.641090\n"
     ]
    }
   ],
   "source": [
    "VN, C, n, T, P, R, dR = obtener_datos_usuario()\n",
    "calcular_nuevo_precio(VN, C, n, T, P, R, dR)"
   ],
   "metadata": {
    "collapsed": false,
    "ExecuteTime": {
     "end_time": "2023-11-01T20:13:46.288753100Z",
     "start_time": "2023-11-01T20:13:10.266084200Z"
    }
   },
   "id": "a3cf8d9637def83d"
  }
 ],
 "metadata": {
  "kernelspec": {
   "display_name": "Python 3",
   "language": "python",
   "name": "python3"
  },
  "language_info": {
   "codemirror_mode": {
    "name": "ipython",
    "version": 2
   },
   "file_extension": ".py",
   "mimetype": "text/x-python",
   "name": "python",
   "nbconvert_exporter": "python",
   "pygments_lexer": "ipython2",
   "version": "2.7.6"
  }
 },
 "nbformat": 4,
 "nbformat_minor": 5
}
