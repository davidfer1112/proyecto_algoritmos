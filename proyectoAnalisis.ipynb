{
 "cells": [
  {
   "cell_type": "markdown",
   "source": [
    "algo"
   ],
   "metadata": {
    "collapsed": false
   },
   "id": "86bc691ab409e32d"
  },
  {
   "cell_type": "code",
   "execution_count": 68,
   "outputs": [],
   "source": [
    "# Celda 1\n",
    "import numpy as np"
   ],
   "metadata": {
    "collapsed": false,
    "ExecuteTime": {
     "end_time": "2023-11-01T17:01:23.537518500Z",
     "start_time": "2023-11-01T17:01:23.530226600Z"
    }
   },
   "id": "6f98581d810f5e5e"
  },
  {
   "cell_type": "code",
   "execution_count": 69,
   "outputs": [],
   "source": [
    "# Celda 2\n",
    "def calcular_flujos_efectivo(VN, C, n, T):\n",
    "    cupon_semestral = VN * C / 2\n",
    "    flujos_cupon = [cupon_semestral] * int(n * T)\n",
    "    flujos_cupon[-1] += VN  # Añadir el pago del principal al vencimiento\n",
    "    return flujos_cupon"
   ],
   "metadata": {
    "collapsed": false,
    "ExecuteTime": {
     "end_time": "2023-11-01T17:01:23.546265Z",
     "start_time": "2023-11-01T17:01:23.532730900Z"
    }
   },
   "id": "8cf582a7b239f125"
  },
  {
   "cell_type": "code",
   "execution_count": 70,
   "outputs": [],
   "source": [
    "# Celda 3\n",
    "def calcular_valor_presente(flujos_cupon, R, n):\n",
    "    return [cf / (1 + R/n)**(i+1) for i, cf in enumerate(flujos_cupon)]"
   ],
   "metadata": {
    "collapsed": false,
    "ExecuteTime": {
     "end_time": "2023-11-01T17:01:23.546265Z",
     "start_time": "2023-11-01T17:01:23.537518500Z"
    }
   },
   "id": "ef0855d292f9650a"
  },
  {
   "cell_type": "code",
   "execution_count": 71,
   "outputs": [],
   "source": [
    "# Celda 4\n",
    "def calcular_duracion_convexidad(flujos_cupon, VP_flujos, R, n):\n",
    "    D = sum([(i+1) * cf / (1 + R/n)**(i+2) for i, cf in enumerate(flujos_cupon)]) / sum(VP_flujos)\n",
    "    C = sum([(i+1)*(i+2) * cf / (1 + R/n)**(i+3) for i, cf in enumerate(flujos_cupon)]) / sum(VP_flujos)\n",
    "    return D, C\n"
   ],
   "metadata": {
    "collapsed": false,
    "ExecuteTime": {
     "end_time": "2023-11-01T17:01:23.547264600Z",
     "start_time": "2023-11-01T17:01:23.540023600Z"
    }
   },
   "id": "edcdc84d6e2a6814"
  },
  {
   "cell_type": "code",
   "execution_count": 72,
   "outputs": [],
   "source": [
    "# Celda 5\n",
    "def aplicar_serie_taylor(D, C, dR):\n",
    "    dP = -D * dR + 0.5 * C * dR**2\n",
    "    return dP"
   ],
   "metadata": {
    "collapsed": false,
    "ExecuteTime": {
     "end_time": "2023-11-01T17:01:23.547264600Z",
     "start_time": "2023-11-01T17:01:23.544759Z"
    }
   },
   "id": "acaf3a38c98fa343"
  },
  {
   "cell_type": "code",
   "execution_count": 73,
   "outputs": [],
   "source": [
    "# Celda 6\n",
    "def calcular_nuevo_precio(VN, C, n, T, P, R, dR):\n",
    "    flujos_cupon = calcular_flujos_efectivo(VN, C, n, T)\n",
    "    VP_flujos = calcular_valor_presente(flujos_cupon, R, n)\n",
    "    D, C = calcular_duracion_convexidad(flujos_cupon, VP_flujos, R, n)\n",
    "    dP = aplicar_serie_taylor(D, C, dR)\n",
    "    nuevo_precio = P + dP\n",
    "    print(f\"\\nPrecio anterior del bono: {P:.6f}\")\n",
    "    print(f\"Nuevo precio estimado del bono: {nuevo_precio:.6f}\")\n",
    "    print(f\"Diferencia: {abs(nuevo_precio - P):.6f}\")"
   ],
   "metadata": {
    "collapsed": false,
    "ExecuteTime": {
     "end_time": "2023-11-01T17:01:23.551365500Z",
     "start_time": "2023-11-01T17:01:23.547264600Z"
    }
   },
   "id": "44d40e0b819d37a4"
  },
  {
   "cell_type": "code",
   "execution_count": 74,
   "outputs": [],
   "source": [
    "# Celda 7\n",
    "# Datos del ejemplo\n",
    "VN_ejemplo = 10000\n",
    "C_ejemplo = 0.06\n",
    "n_ejemplo = 2  # Capitalizable semestralmente\n",
    "T_ejemplo = 10\n",
    "P_ejemplo = 10200  # Precio después de la comisión\n",
    "R_ejemplo = 0.03  # 6% capitalizable semestralmente\n",
    "dR_ejemplo = 0.00273398  # Variación en el rendimiento según el ejemplo"
   ],
   "metadata": {
    "collapsed": false,
    "ExecuteTime": {
     "end_time": "2023-11-01T17:01:23.554306200Z",
     "start_time": "2023-11-01T17:01:23.550365300Z"
    }
   },
   "id": "a3cf8d9637def83d"
  },
  {
   "cell_type": "code",
   "execution_count": 75,
   "outputs": [
    {
     "name": "stdout",
     "output_type": "stream",
     "text": [
      "\n",
      "Precio anterior del bono: 10200.000000\n",
      "Nuevo precio estimado del bono: 10199.958267\n",
      "Diferencia: 0.041733\n"
     ]
    }
   ],
   "source": [
    "# Celda 8\n",
    "calcular_nuevo_precio(VN_ejemplo, C_ejemplo, n_ejemplo, T_ejemplo, P_ejemplo, R_ejemplo, dR_ejemplo)"
   ],
   "metadata": {
    "collapsed": false,
    "ExecuteTime": {
     "end_time": "2023-11-01T17:01:23.557888300Z",
     "start_time": "2023-11-01T17:01:23.554306200Z"
    }
   },
   "id": "79ebfcb7933426a3"
  }
 ],
 "metadata": {
  "kernelspec": {
   "display_name": "Python 3",
   "language": "python",
   "name": "python3"
  },
  "language_info": {
   "codemirror_mode": {
    "name": "ipython",
    "version": 2
   },
   "file_extension": ".py",
   "mimetype": "text/x-python",
   "name": "python",
   "nbconvert_exporter": "python",
   "pygments_lexer": "ipython2",
   "version": "2.7.6"
  }
 },
 "nbformat": 4,
 "nbformat_minor": 5
}
