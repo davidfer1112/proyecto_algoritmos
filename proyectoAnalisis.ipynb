{
 "cells": [
  {
   "cell_type": "markdown",
   "source": [
    "Importar librería NumPy para realizar operaciones numéricas"
   ],
   "metadata": {
    "collapsed": false
   },
   "id": "86bc691ab409e32d"
  },
  {
   "cell_type": "code",
   "execution_count": 100,
   "outputs": [],
   "source": [
    "import numpy as np"
   ],
   "metadata": {
    "collapsed": false,
    "ExecuteTime": {
     "end_time": "2023-11-01T19:08:03.128351200Z",
     "start_time": "2023-11-01T19:08:03.109635600Z"
    }
   },
   "id": "6f98581d810f5e5e"
  },
  {
   "cell_type": "markdown",
   "source": [
    "Solicitar los datos al usuario"
   ],
   "metadata": {
    "collapsed": false
   },
   "id": "a521550426f30f51"
  },
  {
   "cell_type": "code",
   "execution_count": 101,
   "outputs": [],
   "source": [
    "def obtener_datos_usuario():\n",
    "    VN = float(input(\"Ingrese el valor nominal del bono: \"))\n",
    "    C = float(input(\"Ingrese la tasa de interés contractual (en decimal): \"))\n",
    "    n = int(input(\"Ingrese la frecuencia de capitalización por año: \"))\n",
    "    T = float(input(\"Ingrese el plazo total del bono en años: \"))\n",
    "    P = float(input(\"Ingrese el precio después de la comisión: \"))\n",
    "    R = float(input(\"Ingrese la tasa de interés inicial (en decimal): \"))\n",
    "    dR = float(input(\"Ingrese la variación en la tasa de interés: \"))\n",
    "    return VN, C, n, T, P, R, dR"
   ],
   "metadata": {
    "collapsed": false,
    "ExecuteTime": {
     "end_time": "2023-11-01T19:08:03.129957300Z",
     "start_time": "2023-11-01T19:08:03.113312500Z"
    }
   },
   "id": "8cf582a7b239f125"
  },
  {
   "cell_type": "markdown",
   "source": [
    "Calcular los flujos de efectivo para cada período"
   ],
   "metadata": {
    "collapsed": false
   },
   "id": "d79b8841b2bf515c"
  },
  {
   "cell_type": "code",
   "execution_count": 102,
   "outputs": [],
   "source": [
    "def calcular_flujos_efectivo(VN, C, n, T):\n",
    "    cupon_semestral = VN * C / 2\n",
    "    flujos_cupon = [cupon_semestral] * int(n * T)\n",
    "    flujos_cupon[-1] += VN\n",
    "    return flujos_cupon"
   ],
   "metadata": {
    "collapsed": false,
    "ExecuteTime": {
     "end_time": "2023-11-01T19:08:03.130954600Z",
     "start_time": "2023-11-01T19:08:03.115816500Z"
    }
   },
   "id": "ef0855d292f9650a"
  },
  {
   "cell_type": "markdown",
   "source": [
    "Calcular el valor presente de cada flujo de efectivo"
   ],
   "metadata": {
    "collapsed": false
   },
   "id": "b7e844e4fb3d70"
  },
  {
   "cell_type": "code",
   "execution_count": 103,
   "outputs": [],
   "source": [
    "def calcular_valor_presente(flujos_cupon, R, n):\n",
    "    return [cf / (1 + R/n)**(i+1) for i, cf in enumerate(flujos_cupon)]"
   ],
   "metadata": {
    "collapsed": false,
    "ExecuteTime": {
     "end_time": "2023-11-01T19:08:03.130954600Z",
     "start_time": "2023-11-01T19:08:03.119415600Z"
    }
   },
   "id": "edcdc84d6e2a6814"
  },
  {
   "cell_type": "markdown",
   "source": [
    "Calcular la duración y la convexidad"
   ],
   "metadata": {
    "collapsed": false
   },
   "id": "cb16c28b69c645e7"
  },
  {
   "cell_type": "code",
   "execution_count": 104,
   "outputs": [],
   "source": [
    "def calcular_duracion_convexidad(flujos_cupon, VP_flujos, R, n):\n",
    "    D = sum([(i+1) * cf / (1 + R/n)**(i+2) for i, cf in enumerate(flujos_cupon)]) / sum(VP_flujos)\n",
    "    C = sum([(i+1)*(i+2) * cf / (1 + R/n)**(i+3) for i, cf in enumerate(flujos_cupon)]) / sum(VP_flujos)\n",
    "    return D, C"
   ],
   "metadata": {
    "collapsed": false,
    "ExecuteTime": {
     "end_time": "2023-11-01T19:08:03.130954600Z",
     "start_time": "2023-11-01T19:08:03.120921300Z"
    }
   },
   "id": "a06edefccee36525"
  },
  {
   "cell_type": "markdown",
   "source": [
    "Calcular la variación en el precio utilizado la aproximación de la serie de Taylor"
   ],
   "metadata": {
    "collapsed": false
   },
   "id": "c77825cfb27d8cfc"
  },
  {
   "cell_type": "code",
   "execution_count": 105,
   "outputs": [],
   "source": [
    "def aplicar_serie_taylor(D, C, dR):\n",
    "    dP = -D * dR + 0.5 * C * dR**2\n",
    "    return dP"
   ],
   "metadata": {
    "collapsed": false,
    "ExecuteTime": {
     "end_time": "2023-11-01T19:08:03.130954600Z",
     "start_time": "2023-11-01T19:08:03.124572500Z"
    }
   },
   "id": "acaf3a38c98fa343"
  },
  {
   "cell_type": "markdown",
   "source": [
    "Llamar a las funciones anteriores para calcular el nuevo precio"
   ],
   "metadata": {
    "collapsed": false
   },
   "id": "f5bef3265c25c792"
  },
  {
   "cell_type": "code",
   "execution_count": 106,
   "outputs": [],
   "source": [
    "def calcular_nuevo_precio(VN, C, n, T, P, R, dR):\n",
    "    flujos_cupon = calcular_flujos_efectivo(VN, C, n, T)\n",
    "    VP_flujos = calcular_valor_presente(flujos_cupon, R, n)\n",
    "    D, C = calcular_duracion_convexidad(flujos_cupon, VP_flujos, R, n)\n",
    "    dP = aplicar_serie_taylor(D, C, dR)\n",
    "    nuevo_precio = P + dP\n",
    "    print(f\"\\nPrecio anterior del bono: {P:.6f}\")\n",
    "    print(f\"Nuevo precio estimado del bono: {nuevo_precio:.6f}\")\n",
    "    print(f\"Diferencia: {abs(nuevo_precio - P):.6f}\")"
   ],
   "metadata": {
    "collapsed": false,
    "ExecuteTime": {
     "end_time": "2023-11-01T19:08:03.146958100Z",
     "start_time": "2023-11-01T19:08:03.127351400Z"
    }
   },
   "id": "44d40e0b819d37a4"
  },
  {
   "cell_type": "markdown",
   "source": [
    "Mostrar el cálculo del nuevo precio"
   ],
   "metadata": {
    "collapsed": false
   },
   "id": "c8a3ec3e7881d07"
  },
  {
   "cell_type": "code",
   "execution_count": 107,
   "outputs": [
    {
     "name": "stdout",
     "output_type": "stream",
     "text": [
      "\n",
      "Precio anterior del bono: 10200.000000\n",
      "Nuevo precio estimado del bono: 10199.958267\n",
      "Diferencia: 0.041733\n"
     ]
    }
   ],
   "source": [
    "VN, C, n, T, P, R, dR = obtener_datos_usuario()\n",
    "calcular_nuevo_precio(VN, C, n, T, P, R, dR)"
   ],
   "metadata": {
    "collapsed": false,
    "ExecuteTime": {
     "end_time": "2023-11-01T19:08:33.713870700Z",
     "start_time": "2023-11-01T19:08:03.131954500Z"
    }
   },
   "id": "a3cf8d9637def83d"
  },
  {
   "cell_type": "markdown",
   "source": [
    "Mostrar el cálculo del nuevo precio"
   ],
   "metadata": {
    "collapsed": false
   },
   "id": "fa4607e6da6d491c"
  }
 ],
 "metadata": {
  "kernelspec": {
   "display_name": "Python 3",
   "language": "python",
   "name": "python3"
  },
  "language_info": {
   "codemirror_mode": {
    "name": "ipython",
    "version": 2
   },
   "file_extension": ".py",
   "mimetype": "text/x-python",
   "name": "python",
   "nbconvert_exporter": "python",
   "pygments_lexer": "ipython2",
   "version": "2.7.6"
  }
 },
 "nbformat": 4,
 "nbformat_minor": 5
}
