{
 "cells": [
  {
   "cell_type": "markdown",
   "source": [
    "#titulo"
   ],
   "metadata": {
    "collapsed": false
   },
   "id": "33130f4ee0f578ee"
  },
  {
   "cell_type": "code",
   "execution_count": 1,
   "outputs": [
    {
     "name": "stdout",
     "output_type": "stream",
     "text": [
      "\n",
      "Precio anterior del bono: 10200.000000\n",
      "Nuevo precio estimado del bono: 10199.958267\n",
      "Diferencia: 0.041733\n"
     ]
    }
   ],
   "source": [
    "def calcular_nuevo_precio(VN, C, n, T, P, R, dR):\n",
    "    # Paso 2: Calcular flujos de efectivo\n",
    "    cupon_semestral = VN * C / 2\n",
    "    flujos_cupon = [cupon_semestral] * int(n * T)\n",
    "    flujos_cupon[-1] += VN  # Añadir el pago del principal al vencimiento\n",
    "\n",
    "    # Paso 3: Calcular valor presente de flujos de efectivo\n",
    "    VP_flujos = [cf / (1 + R/n)**(i+1) for i, cf in enumerate(flujos_cupon)]\n",
    "\n",
    "    # Paso 4: Calcular duración y convexidad\n",
    "    D = sum([(i+1) * cf / (1 + R/n)**(i+2) for i, cf in enumerate(flujos_cupon)]) / sum(VP_flujos)\n",
    "    Conv = sum([(i+1)*(i+2) * cf / (1 + R/n)**(i+3) for i, cf in enumerate(flujos_cupon)]) / sum(VP_flujos)\n",
    "\n",
    "    # Paso 5: Aplicar Serie de Taylor\n",
    "    dP = -D * dR + 0.5 * Conv * dR**2\n",
    "\n",
    "    # Paso 6: Calcular nuevo precio\n",
    "    nuevo_precio = P + dP\n",
    "\n",
    "    # Paso 7: Imprimir resultado y comparación con mayor precisión\n",
    "    print(f\"\\nPrecio anterior del bono: {P:.6f}\")\n",
    "    print(f\"Nuevo precio estimado del bono: {nuevo_precio:.6f}\")\n",
    "    print(f\"Diferencia: {abs(nuevo_precio - P):.6f}\")\n",
    "\n",
    "# Datos del ejemplo\n",
    "VN_ejemplo = 10000\n",
    "C_ejemplo = 0.06\n",
    "n_ejemplo = 2  # Capitalizable semestralmente\n",
    "T_ejemplo = 10\n",
    "P_ejemplo = 10200  # Precio después de la comisión\n",
    "R_ejemplo = 0.03  # 6% capitalizable semestralmente\n",
    "dR_ejemplo = 0.00273398  # Variación en el rendimiento según el ejemplo\n",
    "\n",
    "# Llamada a la función con los datos del ejemplo\n",
    "calcular_nuevo_precio(VN_ejemplo, C_ejemplo, n_ejemplo, T_ejemplo, P_ejemplo, R_ejemplo, dR_ejemplo)\n"
   ],
   "metadata": {
    "collapsed": false,
    "ExecuteTime": {
     "end_time": "2023-11-01T15:28:56.513153700Z",
     "start_time": "2023-11-01T15:28:56.472145300Z"
    }
   },
   "id": "6fd74ef5ca75b2d0"
  },
  {
   "cell_type": "code",
   "execution_count": null,
   "outputs": [],
   "source": [],
   "metadata": {
    "collapsed": false
   },
   "id": "767a1c4a88866b8c"
  }
 ],
 "metadata": {
  "kernelspec": {
   "display_name": "Python 3",
   "language": "python",
   "name": "python3"
  },
  "language_info": {
   "codemirror_mode": {
    "name": "ipython",
    "version": 2
   },
   "file_extension": ".py",
   "mimetype": "text/x-python",
   "name": "python",
   "nbconvert_exporter": "python",
   "pygments_lexer": "ipython2",
   "version": "2.7.6"
  }
 },
 "nbformat": 4,
 "nbformat_minor": 5
}
